{
 "cells": [
  {
   "cell_type": "code",
   "execution_count": 1,
   "id": "cae78535",
   "metadata": {},
   "outputs": [
    {
     "name": "stdout",
     "output_type": "stream",
     "text": [
      "[[1 2 3]\n",
      " [2 3 4]\n",
      " [3 4 5]\n",
      " [3 4 5]\n",
      " [4 6 7]]\n",
      "<class 'numpy.ndarray'>\n"
     ]
    }
   ],
   "source": [
    "import numpy as np\n",
    "arr=np.array([[1,2,3],[2,3,4],[3,4,5]])\n",
    "arr1=np.array([[3,4,5],[4,6,7]])\n",
    "a=[]\n",
    "a1=[]\n",
    "for i in range(0, arr.shape[0]):\n",
    "    for j in range(0, arr.shape[1]):\n",
    "        a.append(arr[i][j])\n",
    "    a1.append(a)\n",
    "    a=[]\n",
    "a=[]\n",
    "for i in range(0, arr1.shape[0]):\n",
    "    for j in range(0, arr1.shape[1]):\n",
    "        a.append(arr1[i][j])\n",
    "    a1.append(a)\n",
    "    a=[]\n",
    "arr2=np.array(a1)\n",
    "print(arr2)\n",
    "print(type(arr2))"
   ]
  },
  {
   "cell_type": "code",
   "execution_count": 3,
   "id": "6881e96e",
   "metadata": {},
   "outputs": [
    {
     "name": "stdout",
     "output_type": "stream",
     "text": [
      "[[1 2 3]\n",
      " [2 3 4]\n",
      " [3 4 5]\n",
      " [3 4 5]\n",
      " [4 6 7]]\n"
     ]
    }
   ],
   "source": [
    "import numpy as np\n",
    "arr=np.array([[1,2,3],[2,3,4],[3,4,5]])\n",
    "arr1=np.array([[3,4,5],[4,6,7]])\n",
    "a=[]\n",
    "a1=[]\n",
    "for i in range(arr.shape[0]):\n",
    "    for j in range(arr.shape[1]):\n",
    "        a.append(arr[i][j])\n",
    "    a1.append(a)\n",
    "    a=[]\n",
    "a=[]\n",
    "for i in range(0, arr1.shape[0]):\n",
    "    for j in range(0, arr1.shape[1]):\n",
    "        a.append(arr1[i][j])\n",
    "    a1.append(a)\n",
    "    a=[]\n",
    "arr2=np.array(a1)\n",
    "print(arr2)"
   ]
  },
  {
   "cell_type": "code",
   "execution_count": null,
   "id": "75ead033",
   "metadata": {},
   "outputs": [],
   "source": []
  }
 ],
 "metadata": {
  "kernelspec": {
   "display_name": "Python 3 (ipykernel)",
   "language": "python",
   "name": "python3"
  },
  "language_info": {
   "codemirror_mode": {
    "name": "ipython",
    "version": 3
   },
   "file_extension": ".py",
   "mimetype": "text/x-python",
   "name": "python",
   "nbconvert_exporter": "python",
   "pygments_lexer": "ipython3",
   "version": "3.9.13"
  }
 },
 "nbformat": 4,
 "nbformat_minor": 5
}
