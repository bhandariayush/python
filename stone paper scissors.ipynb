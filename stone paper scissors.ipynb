{
 "cells": [
  {
   "cell_type": "code",
   "execution_count": 1,
   "id": "5156accc",
   "metadata": {},
   "outputs": [
    {
     "name": "stdout",
     "output_type": "stream",
     "text": [
      "Choose the option: \n",
      "1. Stone\n",
      "2. Paper\n",
      "3. Scissor\n",
      "  2\n",
      "You choose: Paper\n",
      "Computer choose: Paper\n",
      "Tie\n"
     ]
    }
   ],
   "source": [
    "import random\n",
    "a = [\"Stone\",\"Paper\",\"Scissor\"]\n",
    "b = random.randint(0,2)\n",
    "c = int(input(\"Choose the option: \\n1. Stone\\n2. Paper\\n3. Scissor\\n  \"))\n",
    "user = a[c-1]\n",
    "comp = a[b]\n",
    "print(\"You choose:\",user)\n",
    "print(\"Computer choose:\",comp)\n",
    "if(user=='Stone' and comp=='Paper'):\n",
    "    print(\"Computer won\")\n",
    "elif(user=='Stone' and comp=='Scissor'):\n",
    "    print(\"User won\")\n",
    "elif(user=='Paper' and comp=='Scissor'):\n",
    "    print(\"Computer won\")\n",
    "elif(user=='Paper' and comp=='Stone'):\n",
    "    print(\"User won\")\n",
    "elif(user=='Scissor' and comp=='Stone'):\n",
    "    print(\"Computer won\")\n",
    "elif(user=='Scissor' and comp=='Paper'):\n",
    "    print(\"User won\")\n",
    "else:\n",
    "    print(\"Tie\")"
   ]
  },
  {
   "cell_type": "code",
   "execution_count": null,
   "id": "247a9de3",
   "metadata": {},
   "outputs": [],
   "source": []
  }
 ],
 "metadata": {
  "kernelspec": {
   "display_name": "Python 3 (ipykernel)",
   "language": "python",
   "name": "python3"
  },
  "language_info": {
   "codemirror_mode": {
    "name": "ipython",
    "version": 3
   },
   "file_extension": ".py",
   "mimetype": "text/x-python",
   "name": "python",
   "nbconvert_exporter": "python",
   "pygments_lexer": "ipython3",
   "version": "3.9.13"
  }
 },
 "nbformat": 4,
 "nbformat_minor": 5
}
