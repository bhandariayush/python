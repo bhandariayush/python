{
 "cells": [
  {
   "cell_type": "code",
   "execution_count": 31,
   "id": "7d66c13b",
   "metadata": {},
   "outputs": [
    {
     "name": "stdout",
     "output_type": "stream",
     "text": [
      "[[1 0 5]\n",
      " [2 6 6]\n",
      " [0 2 4]]\n",
      "[[4 9]\n",
      " [5 1]\n",
      " [4 8]]\n",
      "manually\n",
      "[[24. 49.]\n",
      " [62. 72.]\n",
      " [26. 34.]]\n",
      "function\n",
      "[[24 49]\n",
      " [62 72]\n",
      " [26 34]]\n"
     ]
    }
   ],
   "source": [
    "import numpy as np\n",
    "b1=3\n",
    "c1=3\n",
    "a=np.random.randint(0,10,(b1,c1))\n",
    "b2=3\n",
    "c2=2\n",
    "b=np.random.randint(0,10,(b2,c2))\n",
    "print(a)\n",
    "print(b)\n",
    "if(c1==b2):\n",
    "    arr=np.zeros((b1,c2))\n",
    "    add=0\n",
    "    for i in range(0, b1):\n",
    "        for j in range(0, c2):\n",
    "            for k in range(0, b2):\n",
    "                add=add+(a[i][k]*b[k][j])\n",
    "            arr[i][j]=add\n",
    "            add=0\n",
    "    print(\"manually\")\n",
    "    print(arr)\n",
    "else:\n",
    "    print(\"matrix multiplication not possible\")\n",
    "\n",
    "print(\"function\")\n",
    "arr1=np.matmul(a,b)\n",
    "print(arr1)\n",
    "            \n",
    "                \n",
    "                "
   ]
  }
 ],
 "metadata": {
  "kernelspec": {
   "display_name": "Python 3 (ipykernel)",
   "language": "python",
   "name": "python3"
  },
  "language_info": {
   "codemirror_mode": {
    "name": "ipython",
    "version": 3
   },
   "file_extension": ".py",
   "mimetype": "text/x-python",
   "name": "python",
   "nbconvert_exporter": "python",
   "pygments_lexer": "ipython3",
   "version": "3.9.13"
  }
 },
 "nbformat": 4,
 "nbformat_minor": 5
}
