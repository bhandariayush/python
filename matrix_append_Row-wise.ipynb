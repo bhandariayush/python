{
 "cells": [
  {
   "cell_type": "code",
   "execution_count": 12,
   "id": "53980d50",
   "metadata": {},
   "outputs": [
    {
     "name": "stdout",
     "output_type": "stream",
     "text": [
      "for first matrices\n",
      "enter rows = 3\n",
      "enter columns = 4\n",
      "enter number rowwise  = 1\n",
      "enter number rowwise  = 2\n",
      "enter number rowwise  = 3\n",
      "enter number rowwise  = 4\n",
      "enter number rowwise  = 3\n",
      "enter number rowwise  = 4\n",
      "enter number rowwise  = 5\n",
      "enter number rowwise  = 6\n",
      "enter number rowwise  = 4\n",
      "enter number rowwise  = 5\n",
      "enter number rowwise  = 6\n",
      "enter number rowwise  = 7\n",
      "[[1 2 3 4]\n",
      " [3 4 5 6]\n",
      " [4 5 6 7]]\n",
      "for second matrices\n",
      "enter rows = 2\n",
      "enter columns = 4\n",
      "enter number rowwise  = 1\n",
      "enter number rowwise  = 2\n",
      "enter number rowwise  = 3\n",
      "enter number rowwise  = 4\n",
      "enter number rowwise  = 2\n",
      "enter number rowwise  = 3\n",
      "enter number rowwise  = 4\n",
      "enter number rowwise  = 5\n",
      "[[1 2 3 4]\n",
      " [2 3 4 5]]\n",
      "5\n",
      "[[1. 2. 3. 4.]\n",
      " [3. 4. 5. 6.]\n",
      " [4. 5. 6. 7.]\n",
      " [1. 2. 3. 4.]\n",
      " [2. 3. 4. 5.]]\n"
     ]
    }
   ],
   "source": [
    "import numpy as np\n",
    "a=[]\n",
    "a1=[]\n",
    "print(\"for first matrices\")\n",
    "Row_size=int(input(\"enter rows = \"))\n",
    "Column_size=int(input(\"enter columns = \"))\n",
    "for i in range(0, Row_size):\n",
    "    for j in range(0, Column_size):\n",
    "        a.append(int(input(\"enter number rowwise  = \")))\n",
    "    a1.append(a)\n",
    "    a=[]\n",
    "arr=np.array(a1)\n",
    "print(arr)\n",
    "a=[]\n",
    "a1=[]\n",
    "print(\"for second matrices\")\n",
    "Row_size1=int(input(\"enter rows = \"))\n",
    "Column_size1=int(input(\"enter columns = \"))\n",
    "for i in range(0, Row_size1):\n",
    "    for j in range(0, Column_size1):\n",
    "        a.append(int(input(\"enter number rowwise  = \")))\n",
    "    a1.append(a)\n",
    "    a=[]\n",
    "arr1=np.array(a1)\n",
    "print(arr1)\n",
    "if(Column_size==Column_size1):\n",
    "    r1=Row_size+Row_size1\n",
    "    print(r1)\n",
    "    az=np.zeros((r1,Column_size))\n",
    "    for i in range(0, Row_size):\n",
    "        for j in range(0, Column_size):\n",
    "            az[i][j]=arr[i][j]\n",
    "    num=i+1\n",
    "    for i in range(num, r1):\n",
    "        for j in range(0, Column_size1):\n",
    "            az[i][j]=arr1[i-num][j]\n",
    "    print(az)\n",
    "else:\n",
    "    print(\"invalid range\")"
   ]
  }
 ],
 "metadata": {
  "kernelspec": {
   "display_name": "Python 3 (ipykernel)",
   "language": "python",
   "name": "python3"
  },
  "language_info": {
   "codemirror_mode": {
    "name": "ipython",
    "version": 3
   },
   "file_extension": ".py",
   "mimetype": "text/x-python",
   "name": "python",
   "nbconvert_exporter": "python",
   "pygments_lexer": "ipython3",
   "version": "3.9.13"
  }
 },
 "nbformat": 4,
 "nbformat_minor": 5
}
